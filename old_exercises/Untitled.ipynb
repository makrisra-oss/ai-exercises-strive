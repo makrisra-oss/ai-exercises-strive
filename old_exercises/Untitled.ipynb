{
 "cells": [
  {
   "cell_type": "code",
   "execution_count": null,
   "metadata": {},
   "outputs": [],
   "source": [
    "def cashier(amount):\n",
    "    dollars_count = amount // 100\n",
    "    quarters_count = (amount - (dollars_count*100)) // 25\n",
    "    dimes_count = (amount - (dollars_count*100) - (quarters_count*25)) // 10\n",
    "    nickels_count = (amount - (dollars_count*100) - (quarters_count*25) - (dimes_count*10)) // 5\n",
    "    pennies_count = (amount - (dollars_count*100) - (quarters_count*25) - (dimes_count*10) - (nickels_count*5)) // 1\n",
    "    return {\n",
    "'dollars' : dollars_count,\n",
    "'quarters' : quarters_count,\n",
    "'dimes' : dimes_count,\n",
    "'nickels' : nickels_count,\n",
    "'pennies' : pennies_count\n",
    "    }\n",
    "\n",
    "cashier(1156"
   ]
  },
  {
   "cell_type": "code",
   "execution_count": null,
   "metadata": {},
   "outputs": [],
   "source": []
  }
 ],
 "metadata": {
  "kernelspec": {
   "display_name": "Python 3",
   "language": "python",
   "name": "python3"
  },
  "language_info": {
   "codemirror_mode": {
    "name": "ipython",
    "version": 3
   },
   "file_extension": ".py",
   "mimetype": "text/x-python",
   "name": "python",
   "nbconvert_exporter": "python",
   "pygments_lexer": "ipython3",
   "version": "3.8.3"
  }
 },
 "nbformat": 4,
 "nbformat_minor": 4
}
